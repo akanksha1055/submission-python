{
  "nbformat": 4,
  "nbformat_minor": 0,
  "metadata": {
    "colab": {
      "provenance": [],
      "authorship_tag": "ABX9TyOkuXgUXvXLMZBjjUNEhXnc",
      "include_colab_link": true
    },
    "kernelspec": {
      "name": "python3",
      "display_name": "Python 3"
    },
    "language_info": {
      "name": "python"
    }
  },
  "cells": [
    {
      "cell_type": "markdown",
      "metadata": {
        "id": "view-in-github",
        "colab_type": "text"
      },
      "source": [
        "<a href=\"https://colab.research.google.com/github/akanksha1055/submission-python/blob/main/labassignment.ipynb\" target=\"_parent\"><img src=\"https://colab.research.google.com/assets/colab-badge.svg\" alt=\"Open In Colab\"/></a>"
      ]
    },
    {
      "cell_type": "markdown",
      "source": [
        "1)To implement all arithmetic , logical and relational opertors in pyhton"
      ],
      "metadata": {
        "id": "UT439IG8wg_S"
      }
    },
    {
      "cell_type": "code",
      "execution_count": 2,
      "metadata": {
        "colab": {
          "base_uri": "https://localhost:8080/"
        },
        "id": "xvTkT7dsr8uW",
        "outputId": "377c0963-1a3a-46b0-fafd-00b2be55ec5e"
      },
      "outputs": [
        {
          "output_type": "stream",
          "name": "stdout",
          "text": [
            "Sum:  30\n",
            "Subtraction:  -10\n",
            "Multiplication:  200\n",
            "Division:  0.5\n",
            "Floor Division:  0\n",
            "Modulo:  10\n",
            "Power:  100000000000000000000\n",
            "a > b : False\n",
            "a < b : True\n",
            "a >= b : False\n",
            "a <= b : True\n",
            "a == b : False\n",
            "a != b : True\n",
            "('alpha AND beta :', False)\n",
            "('alpha OR beta :', True)\n",
            "('NOT beta :', True)\n"
          ]
        }
      ],
      "source": [
        "a = 10\n",
        "b = 20\n",
        "\n",
        "# arithmetic operataions\n",
        "print ('Sum: ', a + b)  \n",
        "print ('Subtraction: ', a - b)   \n",
        "print ('Multiplication: ', a * b)  \n",
        "print ('Division: ', a / b) \n",
        "print ('Floor Division: ', a // b)\n",
        "print ('Modulo: ', a % b)  \n",
        "print ('Power: ', a ** b)   \n",
        "\n",
        "#relational operators\n",
        "print('a > b :' , a>b)\n",
        "print('a < b :' , a<b)\n",
        "print('a >= b :' , a>=b)\n",
        "print('a <= b :' , a<=b)\n",
        "print('a == b :' , a==b)\n",
        "print('a != b :' , a!=b)\n",
        "\n",
        "#logical operators\n",
        "alpha = True\n",
        "beta = False\n",
        "\n",
        "print(('alpha AND beta :', alpha and beta))\n",
        "print(('alpha OR beta :' ,alpha or beta))\n",
        "print(('NOT beta :' ,not beta))\n",
        "\n",
        "\n"
      ]
    },
    {
      "cell_type": "markdown",
      "source": [
        "2) To check number is even or odd"
      ],
      "metadata": {
        "id": "8M2XTK0AwpEG"
      }
    },
    {
      "cell_type": "code",
      "source": [
        "\n",
        "num = int(input(\"Enter a number: \"))\n",
        "if (num % 2) == 0:\n",
        "   print(num , \" is Even\")\n",
        "else:\n",
        "   print(num, \" is Odd\")"
      ],
      "metadata": {
        "colab": {
          "base_uri": "https://localhost:8080/"
        },
        "id": "dCjKnQ5qzDEz",
        "outputId": "58a52007-43d7-4b2a-965c-4a4393eade53"
      },
      "execution_count": 3,
      "outputs": [
        {
          "output_type": "stream",
          "name": "stdout",
          "text": [
            "Enter a number: 307836\n",
            "307836  is Even\n"
          ]
        }
      ]
    },
    {
      "cell_type": "markdown",
      "source": [
        "3) A: To check greater of two numbers\n",
        "   B: To check greater of three numbers"
      ],
      "metadata": {
        "id": "uGGIPM6Rwvgz"
      }
    },
    {
      "cell_type": "code",
      "source": [
        "#largest among two numbers\n",
        "num1 = int(input(\"Enter a number: \"))\n",
        "num2 = int(input(\"Enter a number: \"))\n",
        "\n",
        "if (num1 >= num2) and (num1 >= num3):\n",
        "   Maxi = num1\n",
        "else:\n",
        "   Maxi = num2\n",
        "\n",
        "print(\"The largest number is\", Maxi)\n",
        "45634567\n",
        "#largest among three numbers\n",
        "num1 = int(input(\"Enter a number: \"))\n",
        "num2 = int(input(\"Enter a number: \"))\n",
        "num3 = int(input(\"Enter a number: \"))\n",
        "\n",
        "if (num1 >= num2) and (num1 >= num3):\n",
        "   Maxi = num1\n",
        "elif (num2 >= num1) and (num2 >= num3):\n",
        "   Maxi = num2\n",
        "else:\n",
        "   Maxi = num3\n",
        "\n",
        "print(\"The largest number is\", Maxi)"
      ],
      "metadata": {
        "colab": {
          "base_uri": "https://localhost:8080/"
        },
        "id": "OsPm_B7TzEYP",
        "outputId": "7dced664-18f6-4984-b4af-1da3a5d7d8b2"
      },
      "execution_count": 4,
      "outputs": [
        {
          "output_type": "stream",
          "name": "stdout",
          "text": [
            "Enter a number: 10456\n",
            "Enter a number: 23456\n",
            "The largest number is 23456\n",
            "Enter a number: 23456\n",
            "Enter a number: 567\n",
            "Enter a number: 234567\n",
            "The largest number is 234567\n"
          ]
        }
      ]
    },
    {
      "cell_type": "markdown",
      "source": [
        "4) To check number is prime or composite\n"
      ],
      "metadata": {
        "id": "3ApvhCe-w9jY"
      }
    },
    {
      "cell_type": "code",
      "source": [
        "num = int(input(\"Enter a number: \"))\n",
        "flag = False\n",
        "\n",
        "if num == 1:\n",
        "    print(num, \"is neither a prime nor composite number\")\n",
        "elif num > 1:\n",
        "    \n",
        "    for i in range(2, num):\n",
        "        if (num % i) == 0:\n",
        "            flag = True\n",
        "            break\n",
        "\n",
        "    if flag is True:\n",
        "        print(num, \"is composite number\")\n",
        "    else:\n",
        "        print(num, \"is a prime number\")"
      ],
      "metadata": {
        "colab": {
          "base_uri": "https://localhost:8080/"
        },
        "id": "aY2BZhO-zFKq",
        "outputId": "8fd3f267-7942-4780-eba3-8969e2440664"
      },
      "execution_count": 8,
      "outputs": [
        {
          "output_type": "stream",
          "name": "stdout",
          "text": [
            "Enter a number: 7\n",
            "7 is a prime number\n"
          ]
        }
      ]
    },
    {
      "cell_type": "markdown",
      "source": [
        "5)To print all odd and even numbers in a range"
      ],
      "metadata": {
        "id": "O6TVbuNFxDLc"
      }
    },
    {
      "cell_type": "code",
      "source": [
        "N = int(input(\"Enter the range :\"))\n",
        "\n",
        "for i in range (1 , N+1 ):\n",
        "  if (i % 2) == 0:\n",
        "   print(i , \" is Even\")\n",
        "   i += 1\n",
        "  else:\n",
        "   print(i, \" is Odd\")\n",
        "   i+=1\n",
        "\n"
      ],
      "metadata": {
        "colab": {
          "base_uri": "https://localhost:8080/"
        },
        "id": "U_irjI3pzF1Y",
        "outputId": "ee80de71-7965-4253-d76e-e741fb769e40"
      },
      "execution_count": 15,
      "outputs": [
        {
          "output_type": "stream",
          "name": "stdout",
          "text": [
            "Enter the range :10\n",
            "1  is Odd\n",
            "2  is Even\n",
            "3  is Odd\n",
            "4  is Even\n",
            "5  is Odd\n",
            "6  is Even\n",
            "7  is Odd\n",
            "8  is Even\n",
            "9  is Odd\n",
            "10  is Even\n"
          ]
        }
      ]
    },
    {
      "cell_type": "markdown",
      "source": [
        "6) to print all prime numbers in a range"
      ],
      "metadata": {
        "id": "KeqMENbuxJje"
      }
    },
    {
      "cell_type": "code",
      "source": [
        "lower = 1\n",
        "upper = 100\n",
        "\n",
        "print(\"Prime numbers between\", lower, \"and\", upper, \"are:\")\n",
        "\n",
        "for num in range(lower, upper + 1):\n",
        "   if num > 1:\n",
        "       for i in range(2, num):\n",
        "           if (num % i) == 0:\n",
        "               break\n",
        "       else:\n",
        "           print(num)"
      ],
      "metadata": {
        "colab": {
          "base_uri": "https://localhost:8080/"
        },
        "id": "7fpj8hhgzGgV",
        "outputId": "484c01be-6aaa-434c-ec28-a83ea9f94aed"
      },
      "execution_count": 16,
      "outputs": [
        {
          "output_type": "stream",
          "name": "stdout",
          "text": [
            "Prime numbers between 1 and 100 are:\n",
            "2\n",
            "3\n",
            "5\n",
            "7\n",
            "11\n",
            "13\n",
            "17\n",
            "19\n",
            "23\n",
            "29\n",
            "31\n",
            "37\n",
            "41\n",
            "43\n",
            "47\n",
            "53\n",
            "59\n",
            "61\n",
            "67\n",
            "71\n",
            "73\n",
            "79\n",
            "83\n",
            "89\n",
            "97\n"
          ]
        }
      ]
    },
    {
      "cell_type": "markdown",
      "source": [
        "7) To find reverse of a number"
      ],
      "metadata": {
        "id": "vNSv_w1FxP8f"
      }
    },
    {
      "cell_type": "code",
      "source": [
        "num = int(input(\"Enter a number: \"))\n",
        "reversed_num = 0\n",
        "\n",
        "while num != 0:\n",
        "    digit = num % 10\n",
        "    reversed_num = reversed_num * 10 + digit\n",
        "    num = num// 10\n",
        "\n",
        "print(\"Reversed Number: \",reversed_num)"
      ],
      "metadata": {
        "colab": {
          "base_uri": "https://localhost:8080/"
        },
        "id": "SujwtVTpzHHb",
        "outputId": "823c9d26-b6f8-4b02-8da4-3db47f7220fd"
      },
      "execution_count": 20,
      "outputs": [
        {
          "output_type": "stream",
          "name": "stdout",
          "text": [
            "Enter a number: 123456\n",
            "Reversed Number:  654321\n"
          ]
        }
      ]
    },
    {
      "cell_type": "markdown",
      "source": [
        "8) To find number is Palindrome or not "
      ],
      "metadata": {
        "id": "iKOWm3z-xTma"
      }
    },
    {
      "cell_type": "code",
      "source": [
        "num = int(input(\"Enter a number: \"))\n",
        "originalnum = num\n",
        "reversed_num = 0\n",
        "\n",
        "while num != 0:\n",
        "    digit = num % 10\n",
        "    reversed_num = reversed_num * 10 + digit\n",
        "    num = num// 10\n",
        "\n",
        "if ( originalnum == reversed_num) :\n",
        "  print(reversed_num , \"is a palindrome number\")\n",
        "else :\n",
        "  print(reversed_num , \"is a not a palindrome number\")\n",
        "  "
      ],
      "metadata": {
        "colab": {
          "base_uri": "https://localhost:8080/"
        },
        "id": "6Mw5vnmdzHyU",
        "outputId": "78b4c6e9-cb28-4b13-b37c-14809cc66321"
      },
      "execution_count": 26,
      "outputs": [
        {
          "output_type": "stream",
          "name": "stdout",
          "text": [
            "Enter a number: 1331\n",
            "1331 is a palindrome number\n"
          ]
        }
      ]
    },
    {
      "cell_type": "markdown",
      "source": [
        "9) To check number is armstrong or not"
      ],
      "metadata": {
        "id": "oplGrS56xYRb"
      }
    },
    {
      "cell_type": "code",
      "source": [
        "num = int(input(\"Enter a number: \"))\n",
        "\n",
        "sum = 0\n",
        "n = len(str(num))\n",
        "temp = num\n",
        "while temp > 0:\n",
        "   digit = temp % 10\n",
        "   sum += digit ** n\n",
        "   temp //= 10\n",
        "\n",
        "if num == sum:\n",
        "   print(num,\"is an Armstrong number\")\n",
        "else:\n",
        "   print(num,\"is not an Armstrong number\")"
      ],
      "metadata": {
        "colab": {
          "base_uri": "https://localhost:8080/"
        },
        "id": "4uZ9wUaIzIcD",
        "outputId": "60a9020f-73dd-4b23-9ab9-02b3142449fc"
      },
      "execution_count": 33,
      "outputs": [
        {
          "output_type": "stream",
          "name": "stdout",
          "text": [
            "Enter a number: 153\n",
            "153 is an Armstrong number\n"
          ]
        }
      ]
    },
    {
      "cell_type": "markdown",
      "source": [
        "10) To print all armstrong numbers in a range"
      ],
      "metadata": {
        "id": "g-lQtLwsxd8p"
      }
    },
    {
      "cell_type": "code",
      "source": [
        "lower = int(input(\"Enter a lower limit of range: \"))\n",
        "Upper = int(input(\"Enter a Upper limit of range: \"))\n",
        "\n",
        "for num in range (lower , Upper+1) :\n",
        "  sum = 0\n",
        "  n = len(str(num))\n",
        "  temp = num\n",
        "  while temp > 0:\n",
        "    digit = temp % 10\n",
        "    sum += digit ** n\n",
        "    temp //= 10\n",
        "\n",
        "  if num == sum:\n",
        "   print(num)"
      ],
      "metadata": {
        "colab": {
          "base_uri": "https://localhost:8080/"
        },
        "id": "AlDdLCgGzJFh",
        "outputId": "920d52d0-61bb-4f6e-d83f-e412a36f9efe"
      },
      "execution_count": 43,
      "outputs": [
        {
          "output_type": "stream",
          "name": "stdout",
          "text": [
            "Enter a lower limit of range: 100\n",
            "Enter a Upper limit of range: 1000\n",
            "153\n",
            "370\n",
            "371\n",
            "407\n"
          ]
        }
      ]
    },
    {
      "cell_type": "markdown",
      "source": [
        "11)To find sum of first N natural numbers"
      ],
      "metadata": {
        "id": "r9gwlQY2xjyQ"
      }
    },
    {
      "cell_type": "code",
      "source": [
        "num = int(input(\"Enter a number: \"))\n",
        "\n",
        "if num < 0:\n",
        "   print(\"Enter a positive number\")\n",
        "else:\n",
        "   sum = 0\n",
        "   while(num > 0):\n",
        "       sum += num\n",
        "       num -= 1\n",
        "   print(\"The sum is\", sum)"
      ],
      "metadata": {
        "id": "OQpMS3ABzJr3"
      },
      "execution_count": null,
      "outputs": []
    },
    {
      "cell_type": "markdown",
      "source": [
        "12) To find factorial of a given number"
      ],
      "metadata": {
        "id": "RkPYiPjwxvIV"
      }
    },
    {
      "cell_type": "code",
      "source": [
        "num = int(input(\"Enter a number: \"))\n",
        "\n",
        "factorial = 1\n",
        "\n",
        "if num < 0:\n",
        "   print(\"Sorry, factorial does not exist for negative numbers\")\n",
        "elif num == 0:\n",
        "   print(\"The factorial of 0 is 1\")\n",
        "else:\n",
        "   for i in range(1,num + 1):\n",
        "       factorial = factorial*i\n",
        "   print(\"The factorial of\",num,\"is\",factorial)"
      ],
      "metadata": {
        "id": "Gte_4IebzKxx"
      },
      "execution_count": null,
      "outputs": []
    },
    {
      "cell_type": "markdown",
      "source": [
        "13)To print fibonacci series upto n terms"
      ],
      "metadata": {
        "id": "DnM_ili7x1D9"
      }
    },
    {
      "cell_type": "code",
      "source": [
        "\n",
        "nterms = int(input(\"How many terms? \"))\n",
        "\n",
        "n1, n2 = 0, 1\n",
        "count = 0\n",
        "\n",
        "if nterms == 1:\n",
        "   print(\"Fibonacci sequence upto\",nterms,\":\")\n",
        "   print(n1)\n",
        "else:\n",
        "   print(\"Fibonacci sequence:\")\n",
        "   while count < nterms:\n",
        "       print(n1)\n",
        "       nth = n1 + n2\n",
        "       n1 = n2\n",
        "       n2 = nth\n",
        "       count += 1"
      ],
      "metadata": {
        "colab": {
          "base_uri": "https://localhost:8080/"
        },
        "id": "livRj1VqzLtc",
        "outputId": "dd6e25cd-42cd-4836-851c-86f54b4ec973"
      },
      "execution_count": 44,
      "outputs": [
        {
          "output_type": "stream",
          "name": "stdout",
          "text": [
            "How many terms? 5\n",
            "Fibonacci sequence:\n",
            "0\n",
            "1\n",
            "1\n",
            "2\n",
            "3\n"
          ]
        }
      ]
    },
    {
      "cell_type": "markdown",
      "source": [
        "14) To check year is a leap or not "
      ],
      "metadata": {
        "id": "ya72dplBx6WD"
      }
    },
    {
      "cell_type": "code",
      "source": [
        "year = int(input(\"Enter a year: \"))\n",
        "\n",
        "if (year % 400 == 0) and (year % 100 == 0):\n",
        "    print(year , \"is a leap year \")\n",
        "elif (year % 4 ==0) and (year % 100 != 0):\n",
        "    print(year , \"is a leap year \")\n",
        "else:\n",
        "    print(year , \"is a not leap year \")\n",
        "    \n",
        "    \n"
      ],
      "metadata": {
        "colab": {
          "base_uri": "https://localhost:8080/"
        },
        "id": "ACNrPyLuzMJH",
        "outputId": "532a7799-5d41-4008-a3d8-0715a7444f5c"
      },
      "execution_count": 45,
      "outputs": [
        {
          "output_type": "stream",
          "name": "stdout",
          "text": [
            "Enter a year: 2024\n",
            "2024 is a leap year \n"
          ]
        }
      ]
    },
    {
      "cell_type": "markdown",
      "source": [
        "15) To print temperature in F or C & vice versa"
      ],
      "metadata": {
        "id": "xhtk1GVwx_zT"
      }
    },
    {
      "cell_type": "code",
      "source": [
        "celsius = float(input(\"Enter the temperature in celsius : \"))\n",
        "\n",
        "fahrenheit = (celsius * 1.8) + 32\n",
        "print(\"Temperature in fahrenheit :\" , fahrenheit)\n",
        "\n",
        "fahrenheit = float(input(\"Enter the temperature in fahrenheit : \"))\n",
        "\n",
        "celsius = (fahrenheit - 32) / 1.8\n",
        "print(\"Temperature in celsius :\" , celsius)\n"
      ],
      "metadata": {
        "colab": {
          "base_uri": "https://localhost:8080/"
        },
        "id": "x3oUz2ACzOe4",
        "outputId": "68867501-bb8d-4da4-8417-0a950fa2bf09"
      },
      "execution_count": 47,
      "outputs": [
        {
          "output_type": "stream",
          "name": "stdout",
          "text": [
            "Enter the temperature in celsius : 37.5\n",
            "Temperature in fahrenheit : 99.5\n",
            "Enter the temperature in fahrenheit : 99.5\n",
            "Temperature in celsius : 37.5\n"
          ]
        }
      ]
    },
    {
      "cell_type": "markdown",
      "source": [
        "16)To print alll factors of given number using function "
      ],
      "metadata": {
        "id": "phvxyaI7yI3F"
      }
    },
    {
      "cell_type": "code",
      "source": [
        "num = int(input(\"Enter a number: \"))\n",
        "print(\"Factors of \",num , \"are :\")\n",
        "for i in range (1 , num+1):\n",
        "  if( num % i == 0 ):\n",
        "    print(i)\n",
        " "
      ],
      "metadata": {
        "colab": {
          "base_uri": "https://localhost:8080/"
        },
        "id": "_8CFAeLozPIb",
        "outputId": "6a5d6dea-26fc-401e-ff3a-d3a0f76e851a"
      },
      "execution_count": 48,
      "outputs": [
        {
          "output_type": "stream",
          "name": "stdout",
          "text": [
            "Enter a number: 10\n",
            "Factors of  10 are :\n",
            "1\n",
            "2\n",
            "5\n",
            "10\n"
          ]
        }
      ]
    },
    {
      "cell_type": "markdown",
      "source": [
        "17)To convert decimal to binary , octal and hexadecimal with library function"
      ],
      "metadata": {
        "id": "XZXTjrPCyakC"
      }
    },
    {
      "cell_type": "code",
      "source": [
        "decimal = int (input(\"Enter the number in decimal : \"))\n",
        "\n",
        "print(\"decimal number :\",decimal )\n",
        "print(bin(decimal), \"in binary.\")\n",
        "print(oct(decimal), \"in octal.\")\n",
        "print(hex(decimal), \"in hexadecimal.\")"
      ],
      "metadata": {
        "colab": {
          "base_uri": "https://localhost:8080/"
        },
        "id": "o4vUhRnFzPky",
        "outputId": "c267c490-4923-43fd-99ee-e2bf6763601b"
      },
      "execution_count": 50,
      "outputs": [
        {
          "output_type": "stream",
          "name": "stdout",
          "text": [
            "Enter the number in decimal : 344\n",
            "decimal number : 344\n",
            "0b101011000 in binary.\n",
            "0o530 in octal.\n",
            "0x158 in hexadecimal.\n"
          ]
        }
      ]
    },
    {
      "cell_type": "markdown",
      "source": [
        "18) To factorial of a number using function "
      ],
      "metadata": {
        "id": "QVcsqzk9yhrt"
      }
    },
    {
      "cell_type": "code",
      "source": [
        "def fact(num) :\n",
        "  factorial = 1\n",
        "  for i in range(1,num + 1):\n",
        "       factorial = factorial*i\n",
        "  return factorial \n",
        "\n",
        "\n",
        "num = int(input(\"Enter a number for factorial :\"))\n",
        "\n",
        "if num < 0:\n",
        "   print(\"Sorry, factorial does not exist for negative numbers\")\n",
        "elif num == 0:\n",
        "   print(\"The factorial of 0 is 1\")\n",
        "else:\n",
        "   print(\"The factorial of\", num, \"is\", fact(num))\n"
      ],
      "metadata": {
        "colab": {
          "base_uri": "https://localhost:8080/"
        },
        "id": "4f5sffB7zP8q",
        "outputId": "7af5eee5-bd5a-47af-85c4-e90be8164f81"
      },
      "execution_count": 53,
      "outputs": [
        {
          "output_type": "stream",
          "name": "stdout",
          "text": [
            "Enter a number for factorial :5\n",
            "The factorial of 5 is 120\n"
          ]
        }
      ]
    },
    {
      "cell_type": "markdown",
      "source": [
        "19)To print fibonacci series using recursion "
      ],
      "metadata": {
        "id": "M1py1nDnymU5"
      }
    },
    {
      "cell_type": "code",
      "source": [
        "def recur_fibo(n):\n",
        "   if n <= 1:\n",
        "       return n\n",
        "   else:\n",
        "       return(recur_fibo(n-1) + recur_fibo(n-2))\n",
        "\n",
        "nterms = int(input(\"enter number of terms in fabonacci series :\"))\n",
        "\n",
        "print(\"Fibonacci sequence:\")\n",
        "for i in range(nterms):\n",
        "    print(recur_fibo(i))"
      ],
      "metadata": {
        "colab": {
          "base_uri": "https://localhost:8080/"
        },
        "id": "tLqtS0bvzQOz",
        "outputId": "5847d62c-1acf-4bed-9f23-6beb923ce810"
      },
      "execution_count": 2,
      "outputs": [
        {
          "output_type": "stream",
          "name": "stdout",
          "text": [
            "enter number of terms in fabonacci series :10\n",
            "Fibonacci sequence:\n",
            "0\n",
            "1\n",
            "1\n",
            "2\n",
            "3\n",
            "5\n",
            "8\n",
            "13\n",
            "21\n",
            "34\n"
          ]
        }
      ]
    },
    {
      "cell_type": "markdown",
      "source": [
        "20) To find factorial of a number using recursion "
      ],
      "metadata": {
        "id": "Jr8LFIYPyrUy"
      }
    },
    {
      "cell_type": "code",
      "source": [
        "def recur_factorial(n):\n",
        "   if n == 1:\n",
        "       return n\n",
        "   else:\n",
        "       return n*recur_factorial(n-1)\n",
        "\n",
        "num = int(input(\"Enter a number for factorial :\"))\n",
        "\n",
        "if num == 0:\n",
        "   print(\"The factorial of 0 is 1\")\n",
        "else:\n",
        "   print(\"The factorial of\", num, \"is\", recur_factorial(num))"
      ],
      "metadata": {
        "colab": {
          "base_uri": "https://localhost:8080/"
        },
        "id": "QRuRZfYUzQjQ",
        "outputId": "879c559d-f599-41eb-bc13-91e7273260ee"
      },
      "execution_count": 3,
      "outputs": [
        {
          "output_type": "stream",
          "name": "stdout",
          "text": [
            "Enter a number for factorial :5\n",
            "The factorial of 5 is 120\n"
          ]
        }
      ]
    },
    {
      "cell_type": "markdown",
      "source": [
        "21) To find sum of first n natural number using recursion"
      ],
      "metadata": {
        "id": "CGswgNlSywWG"
      }
    },
    {
      "cell_type": "code",
      "source": [
        "\n",
        "def sum(n):\n",
        "   if n <= 1:\n",
        "       return n\n",
        "   else:\n",
        "       return n + sum(n-1)\n",
        "\n",
        "num = int(input(\"Enter a number :\"))\n",
        "if num < 0:\n",
        "   print(\"Enter a positive number\")\n",
        "else:\n",
        "   print(\"The sum is\",sum(num))\n"
      ],
      "metadata": {
        "colab": {
          "base_uri": "https://localhost:8080/"
        },
        "id": "ZrG44weyzQ2e",
        "outputId": "20746dff-51c0-46c2-cff4-dff7bd13829e"
      },
      "execution_count": 4,
      "outputs": [
        {
          "output_type": "stream",
          "name": "stdout",
          "text": [
            "Enter a number :10\n",
            "The sum is 55\n"
          ]
        }
      ]
    },
    {
      "cell_type": "markdown",
      "source": [
        "22)To convert decimal number to binary using recursion"
      ],
      "metadata": {
        "id": "7sWMducoy1RK"
      }
    },
    {
      "cell_type": "code",
      "source": [
        "decimal_number = int(input(\"Enter a number :\"))\n",
        "\n",
        "def getbinary(number):\n",
        "    if number == 0:\n",
        "        return 0 \n",
        "\n",
        "    ans = getbinary(number // 2)\n",
        "      \n",
        "    return number % 2 + 10 * ans\n",
        "\n",
        "print(getbinary(decimal_number))"
      ],
      "metadata": {
        "colab": {
          "base_uri": "https://localhost:8080/"
        },
        "id": "FC0IK3GxzRMG",
        "outputId": "12621a19-9151-4822-cd39-6d428e7d5ad3"
      },
      "execution_count": 10,
      "outputs": [
        {
          "output_type": "stream",
          "name": "stdout",
          "text": [
            "Enter a number :5\n",
            "101\n"
          ]
        }
      ]
    },
    {
      "cell_type": "markdown",
      "source": [
        "23) To display powers of 2 using anynomous function"
      ],
      "metadata": {
        "id": "MZ_Ynp2GeR37"
      }
    },
    {
      "cell_type": "code",
      "source": [
        "number = int(input(\"Enter a number :\"))\n",
        "\n",
        "ans = list (map (lambda x : 2**x, range(number+1)))\n",
        "\n",
        "for i in range(number+1):\n",
        "   print(ans[i])"
      ],
      "metadata": {
        "colab": {
          "base_uri": "https://localhost:8080/"
        },
        "id": "IZzMZQMQhxpY",
        "outputId": "eb35df1e-6e88-46af-de4f-f1394e300c6d"
      },
      "execution_count": 8,
      "outputs": [
        {
          "output_type": "stream",
          "name": "stdout",
          "text": [
            "Enter a number :10\n",
            "1\n",
            "2\n",
            "4\n",
            "8\n",
            "16\n",
            "32\n",
            "64\n",
            "128\n",
            "256\n",
            "512\n",
            "1024\n"
          ]
        }
      ]
    },
    {
      "cell_type": "markdown",
      "source": [
        "24) To find area of triangle , circle , cylinder using lambda function"
      ],
      "metadata": {
        "id": "acRqxDLkfuvJ"
      }
    },
    {
      "cell_type": "code",
      "source": [
        "import math\n",
        "h = int(input(\"Enter triangle's height length: \"))\n",
        "b = int(input(\"Enter triangle's breadth length: \"))\n",
        "Tarea = lambda b , h : 0.5 * b * h  \n",
        "print(Tarea(b , h))\n",
        "\n",
        "h = int(input(\"Enter cylinder's height length: \"))\n",
        "r = int(input(\"Enter cylinder's radius: \"))\n",
        "cyn_area = lambda r , h : math.pi* r * r * h  \n",
        "print(cyn_area(r,h))\n",
        "\n",
        "r = int(input(\"Enter circles's radius: \"))\n",
        "c_area = lambda r : math.pi*r*r\n",
        "print(c_area(r))"
      ],
      "metadata": {
        "colab": {
          "base_uri": "https://localhost:8080/"
        },
        "id": "seszYTqQhwso",
        "outputId": "222b8235-9aad-48cd-dc1a-e4415c81f7ef"
      },
      "execution_count": 14,
      "outputs": [
        {
          "output_type": "stream",
          "name": "stdout",
          "text": [
            "Enter triangle's height length: 10\n",
            "Enter triangle's breadth length: 20\n",
            "100.0\n",
            "Enter cylinder's height length: 20\n",
            "Enter cylinder's radius: 10\n",
            "6283.185307179587\n",
            "Enter circles's radius: 10\n",
            "314.1592653589793\n"
          ]
        }
      ]
    },
    {
      "cell_type": "markdown",
      "source": [
        "25) To add two matrices "
      ],
      "metadata": {
        "id": "o3orRXWcf34y"
      }
    },
    {
      "cell_type": "code",
      "source": [
        "X = [[10,20,30],\n",
        "    [1 ,2,3],\n",
        "    [100 ,200,300]]\n",
        "\n",
        "Y = [[10,20,30],\n",
        "    [1 ,2,3] ,\n",
        "    [100 ,200,300]]\n",
        "\n",
        "result = [[0,0,0],\n",
        "         [0,0,0],\n",
        "         [0,0,0]]\n",
        "\n",
        "for i in range(len(X)):\n",
        "   for j in range(len(X[0])):\n",
        "       result[i][j] = X[i][j] + Y[i][j]\n",
        "\n",
        "for r in result:\n",
        "   print(r)"
      ],
      "metadata": {
        "colab": {
          "base_uri": "https://localhost:8080/"
        },
        "id": "N_0oAwkkhwHM",
        "outputId": "29aec922-7851-49a6-a119-cfc492ab623a"
      },
      "execution_count": 15,
      "outputs": [
        {
          "output_type": "stream",
          "name": "stdout",
          "text": [
            "[20, 40, 60]\n",
            "[2, 4, 6]\n",
            "[200, 400, 600]\n"
          ]
        }
      ]
    },
    {
      "cell_type": "markdown",
      "source": [
        "26) To multiply two matrices"
      ],
      "metadata": {
        "id": "wXR2f0I3f9JD"
      }
    },
    {
      "cell_type": "code",
      "source": [
        "X = [[1,2,3],\n",
        "    [1,2,3],\n",
        "    [1,2,3]]\n",
        "\n",
        "Y = [[1,2,3,4],\n",
        "    [1,2,3,4],\n",
        "    [1,2,3,4]]\n",
        "\n",
        "result = [[0,0,0,0],\n",
        "         [0,0,0,0],\n",
        "         [0,0,0,0]]\n",
        "\n",
        "for i in range(len(X)):\n",
        "   for j in range(len(Y[0])):\n",
        "       for k in range(len(Y)):\n",
        "           result[i][j] += X[i][k] * Y[k][j]\n",
        "\n",
        "for r in result:\n",
        "   print(r)"
      ],
      "metadata": {
        "colab": {
          "base_uri": "https://localhost:8080/"
        },
        "id": "6PMAYLfthvtC",
        "outputId": "ee91feba-7ab0-4fec-e262-bfa491f8533b"
      },
      "execution_count": 16,
      "outputs": [
        {
          "output_type": "stream",
          "name": "stdout",
          "text": [
            "[6, 12, 18, 24]\n",
            "[6, 12, 18, 24]\n",
            "[6, 12, 18, 24]\n"
          ]
        }
      ]
    },
    {
      "cell_type": "markdown",
      "source": [
        "27) To transpose a matrix "
      ],
      "metadata": {
        "id": "vI8swJYngPI-"
      }
    },
    {
      "cell_type": "code",
      "source": [
        "X = [[12,7],\n",
        "    [4 ,5],\n",
        "    [3 ,8]]\n",
        "\n",
        "result = [[0,0,0],\n",
        "         [0,0,0]]\n",
        "\n",
        "for i in range(len(X)):\n",
        "   for j in range(len(X[0])):\n",
        "       result[j][i] = X[i][j]\n",
        "\n",
        "for r in result:\n",
        "   print(r)"
      ],
      "metadata": {
        "colab": {
          "base_uri": "https://localhost:8080/"
        },
        "id": "S7tEUbSzhvQT",
        "outputId": "5147e276-8d20-4b81-a87f-03d3e691c93a"
      },
      "execution_count": 17,
      "outputs": [
        {
          "output_type": "stream",
          "name": "stdout",
          "text": [
            "[12, 4, 3]\n",
            "[7, 5, 8]\n"
          ]
        }
      ]
    },
    {
      "cell_type": "markdown",
      "source": [
        "28) To find average of a numeric list.\n",
        "\n"
      ],
      "metadata": {
        "id": "CiKvKjIggVbb"
      }
    },
    {
      "cell_type": "code",
      "source": [
        "from statistics import mean\n",
        " \n",
        "def Average(lst):\n",
        "    return mean(lst)\n",
        "lst = [15, 9, 55, 41, 35, 20, 62, 49]\n",
        "average = Average(lst)\n",
        "print(\"Average of the list =\", round(average, 2))"
      ],
      "metadata": {
        "colab": {
          "base_uri": "https://localhost:8080/"
        },
        "id": "IH-GzVCWhuwN",
        "outputId": "6728843e-c523-467f-b85f-0dd325a6a516"
      },
      "execution_count": 57,
      "outputs": [
        {
          "output_type": "stream",
          "name": "stdout",
          "text": [
            "Average of the list = 35.75\n"
          ]
        }
      ]
    },
    {
      "cell_type": "markdown",
      "source": [
        "29) To access members of list using different variation of slice operation"
      ],
      "metadata": {
        "id": "X-iPk68IgaRI"
      }
    },
    {
      "cell_type": "code",
      "source": [
        "my_first_list = [1,2,3, 'Studytonight', 1.23]\n",
        "\n",
        "print(my_first_list[-1]) \n",
        "                                                 \n",
        "print(my_first_list[-3]) \n",
        "                         \n",
        "print(my_first_list[3:]) \n",
        "                         \n",
        "print(my_first_list[ : 4])\n",
        "\n",
        "print(my_first_list[1 : 4])\n",
        "                           \n",
        "print(my_first_list[-3:-1])\n",
        "                      \n",
        "print(my_first_list[0:6])  \n",
        "\n",
        "print(my_first_list[ :: 2]) \n",
        "\n",
        "print(my_first_list[ :: -1])\n",
        "\n",
        "print(my_first_list[0 : 3 : 1])\n",
        "                           \n",
        "                           "
      ],
      "metadata": {
        "colab": {
          "base_uri": "https://localhost:8080/"
        },
        "id": "3cYQtBXXhuDt",
        "outputId": "99cd06f5-4be8-4d0a-96c7-81c3911a2cbd"
      },
      "execution_count": 33,
      "outputs": [
        {
          "output_type": "stream",
          "name": "stdout",
          "text": [
            "1.23\n",
            "3\n",
            "['Studytonight', 1.23]\n",
            "[1, 2, 3, 'Studytonight']\n",
            "[2, 3, 'Studytonight']\n",
            "[3, 'Studytonight']\n",
            "[1, 2, 3, 'Studytonight', 1.23]\n",
            "[1, 3, 1.23]\n",
            "[1.23, 'Studytonight', 3, 2, 1]\n",
            "[1, 2, 3]\n"
          ]
        }
      ]
    },
    {
      "cell_type": "markdown",
      "source": [
        "30) To concatenate two lists"
      ],
      "metadata": {
        "id": "-H26AKQZglR7"
      }
    },
    {
      "cell_type": "code",
      "source": [
        "list_1 = [1, 'a']\n",
        "list_2 = [3, 4, 5]\n",
        "\n",
        "list_joined = list_1 + list_2\n",
        "print(list_joined)\n",
        "\n",
        "\n",
        "list_2.extend(list_1)\n",
        "print(list_2)\n",
        "\n",
        "list_1 = [10, 20 ]\n",
        "list_2 = range(2, 4)\n",
        "\n",
        "list_joined = [*list_1, *list_2]\n",
        "print(list_joined)"
      ],
      "metadata": {
        "colab": {
          "base_uri": "https://localhost:8080/"
        },
        "id": "vzQy-N_YhtYl",
        "outputId": "02d60cff-a641-4faa-b115-d8f26f0bfba2"
      },
      "execution_count": 38,
      "outputs": [
        {
          "output_type": "stream",
          "name": "stdout",
          "text": [
            "[1, 'a', 3, 4, 5]\n",
            "[3, 4, 5, 1, 'a']\n",
            "[10, 20, 2, 3]\n"
          ]
        }
      ]
    },
    {
      "cell_type": "markdown",
      "source": [
        "31) To find index of specific element and print no. of occurences "
      ],
      "metadata": {
        "id": "4W2b0MaWgvIt"
      }
    },
    {
      "cell_type": "code",
      "source": [
        "my_list = [1, 2, 3, 1, 5, 4]\n",
        " \n",
        "num = 1\n",
        "occ = 0\n",
        "list_size = len(my_list) \n",
        "print(\"Present on indices :\")\n",
        "for itr in range(list_size):\n",
        " \n",
        "    if(my_list[itr] == num):\n",
        " \n",
        "        print(itr)\n",
        "        occ +=1\n",
        "\n",
        "print(\"no. of occurences : \",occ)"
      ],
      "metadata": {
        "id": "-ywvx1aFhsww"
      },
      "execution_count": null,
      "outputs": []
    },
    {
      "cell_type": "markdown",
      "source": [
        "32) To identify duplicates in a list  "
      ],
      "metadata": {
        "id": "gvKvj3lnhETT"
      }
    },
    {
      "cell_type": "code",
      "source": [
        "l=[1,2,3,4,5,2,3,4,7,9,5]\n",
        "l1=[]\n",
        "for i in l:\n",
        "    if i not in l1:\n",
        "        l1.append(i)\n",
        "    else:\n",
        "        print(i,end=' ')"
      ],
      "metadata": {
        "colab": {
          "base_uri": "https://localhost:8080/"
        },
        "id": "VIG2quQkhr7D",
        "outputId": "9c38b422-8038-4ee4-b62b-27b0c23c943e"
      },
      "execution_count": 62,
      "outputs": [
        {
          "output_type": "stream",
          "name": "stdout",
          "text": [
            "2 3 4 5 "
          ]
        }
      ]
    },
    {
      "cell_type": "markdown",
      "source": [
        "33) To iterate over dictionary using for loop (with and without inbuilt methods"
      ],
      "metadata": {
        "id": "bWIiN2t6g3mZ"
      }
    },
    {
      "cell_type": "code",
      "source": [
        "dt = {'a': 'juice', 'b': 'grill', 'c': 'corn'}\n",
        "#with inbuilt method\n",
        "for key, value in dt.items():\n",
        "    print(key, value)\n",
        "\n",
        "#without inbuilt method\n",
        "for key in dt:\n",
        "    print(key, dt[key])\n"
      ],
      "metadata": {
        "colab": {
          "base_uri": "https://localhost:8080/"
        },
        "id": "0fd5qOpvhq-5",
        "outputId": "53cbe924-f3fd-4434-9d05-45af7f4c68e3"
      },
      "execution_count": 53,
      "outputs": [
        {
          "output_type": "stream",
          "name": "stdout",
          "text": [
            "a juice\n",
            "b grill\n",
            "c corn\n",
            "a juice\n",
            "b grill\n",
            "c corn\n"
          ]
        }
      ]
    },
    {
      "cell_type": "markdown",
      "source": [
        "34) To illustrate nested dictionary\n",
        "\n"
      ],
      "metadata": {
        "id": "B321_xsjhVip"
      }
    },
    {
      "cell_type": "code",
      "source": [
        "people = {1: {'name': 'John', 'age': '27', 'gender': 'Male'},\n",
        "          2: {'name': 'Marie', 'age': '22', 'gender': 'Female'}}\n",
        "\n",
        "print(people[1]['name'])\n",
        "print(people[1]['age'])\n",
        "print(people[1]['gender'])\n",
        "\n",
        "\n",
        "for p_id, p_info in people.items():\n",
        "    print(\"\\nPerson ID:\", p_id)\n",
        "    \n",
        "    for key in p_info:\n",
        "        print(key + ':', p_info[key])"
      ],
      "metadata": {
        "colab": {
          "base_uri": "https://localhost:8080/"
        },
        "id": "pgc-iyZjhqMw",
        "outputId": "dcee96c4-8491-4c34-b93c-c3f9e13c3da2"
      },
      "execution_count": 54,
      "outputs": [
        {
          "output_type": "stream",
          "name": "stdout",
          "text": [
            "John\n",
            "27\n",
            "Male\n",
            "\n",
            "Person ID: 1\n",
            "name: John\n",
            "age: 27\n",
            "gender: Male\n",
            "\n",
            "Person ID: 2\n",
            "name: Marie\n",
            "age: 22\n",
            "gender: Female\n"
          ]
        }
      ]
    },
    {
      "cell_type": "markdown",
      "source": [
        "35) To sort the dictionary a:  according to keys b : according to values"
      ],
      "metadata": {
        "id": "kT2kfyIvhaUB"
      }
    },
    {
      "cell_type": "code",
      "source": [
        "d = {3:'Akanksha',5:'Pal',1:'good ',0:'first'}\n",
        "\n",
        "# sorted acc to keys\n",
        "print(sorted(d))\n",
        "\n",
        "# sorted acc to values\n",
        "print(sorted(d.values()))"
      ],
      "metadata": {
        "colab": {
          "base_uri": "https://localhost:8080/"
        },
        "id": "O7ohrl2uhoet",
        "outputId": "54ad3c69-3c2a-4b76-bd17-68fbe6085c34"
      },
      "execution_count": 55,
      "outputs": [
        {
          "output_type": "stream",
          "name": "stdout",
          "text": [
            "[0, 1, 3, 5]\n",
            "['Akanksha', 'Pal', 'first', 'good ']\n"
          ]
        }
      ]
    },
    {
      "cell_type": "markdown",
      "source": [],
      "metadata": {
        "id": "iQ41GASqhStU"
      }
    }
  ]
}